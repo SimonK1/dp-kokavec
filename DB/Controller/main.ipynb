{
 "cells": [
  {
   "cell_type": "markdown",
   "metadata": {},
   "source": [
    "# WeAviate Controller\n",
    "This simple Weaviate controller in Jupyter Notebook is designed to streamline basic operations on the Weaviate database. It facilitates connecting to the database, creating and deleting collections, and populating these collections with objects sourced from a JSON file. Despite its straightforward nature, this Notebook efficiently covers the essential functionalities required for operating fully functional Weaviate Vector Database.\n",
    "\n",
    "\n",
    "In next cell, we import the necessary libraries for connecting to a Weaviate instance on our Power PC. We also set up the API key required for accessing OpenAI services (This has to be fulfilled by user)."
   ]
  },
  {
   "cell_type": "code",
   "execution_count": null,
   "metadata": {},
   "outputs": [],
   "source": [
    "import weaviate\n",
    "from weaviate.classes.config import Property, DataType, Configure\n",
    "import json\n",
    "from langchain.text_splitter import RecursiveCharacterTextSplitter\n",
    "from weaviate.classes.init import Auth\n",
    "\n",
    "client = weaviate.connect_to_custom(\n",
    "    http_host=\"147.175.146.250\",\n",
    "    http_port=8080,\n",
    "    http_secure=False,\n",
    "    grpc_host=\"147.175.146.250\",\n",
    "    grpc_port=50051,\n",
    "    grpc_secure=False,\n",
    "    headers={\n",
    "        \"X-OpenAI-Api-Key\": 'your-api-key',\n",
    "    }\n",
    ")\n"
   ]
  },
  {
   "cell_type": "markdown",
   "metadata": {},
   "source": [
    "# Create Collection\n",
    "\n",
    "Creates collection suitable for our use case."
   ]
  },
  {
   "cell_type": "code",
   "execution_count": null,
   "metadata": {},
   "outputs": [],
   "source": [
    "client.collections.create(\n",
    "    name=\"RealEstateListings\",\n",
    "    properties=[\n",
    "        Property(name=\"listing_id\", data_type=DataType.TEXT),\n",
    "        Property(name=\"title\", data_type=DataType.TEXT),\n",
    "        Property(name=\"address\", data_type=DataType.TEXT),\n",
    "        Property(name=\"type_of_property\", data_type=DataType.TEXT),\n",
    "        Property(name=\"size_of_property\", data_type=DataType.NUMBER),\n",
    "        Property(name=\"price\", data_type=DataType.NUMBER),\n",
    "        Property(name=\"price_per_m\", data_type=DataType.NUMBER),\n",
    "        Property(name=\"price_per_month\", data_type=DataType.NUMBER),\n",
    "        Property(name=\"price_per_m_per_month\", data_type=DataType.NUMBER),\n",
    "        Property(name=\"description_text\", data_type=DataType.TEXT),\n",
    "        Property(name=\"chunk_index\", data_type=DataType.NUMBER),\n",
    "        Property(name=\"transaction_type\", data_type=DataType.TEXT),\n",
    "        Property(name=\"clean_phone_number\", data_type=DataType.TEXT),\n",
    "        Property(name=\"image\", data_type=DataType.TEXT),\n",
    "        Property(name=\"url\", data_type=DataType.TEXT),\n",
    "    ],\n",
    "    vectorizer_config=Configure.Vectorizer.text2vec_openai(),\n",
    ")"
   ]
  },
  {
   "cell_type": "markdown",
   "metadata": {},
   "source": [
    "# Retrieve Collection\n",
    "\n",
    "Checks if the collection is sucessfuly created."
   ]
  },
  {
   "cell_type": "code",
   "execution_count": null,
   "metadata": {},
   "outputs": [],
   "source": [
    "collection = client.collections.get(\"RealEstateListings\")\n",
    "\n",
    "for item in collection.iterator():\n",
    "    print(item.uuid, item.properties)"
   ]
  },
  {
   "cell_type": "markdown",
   "metadata": {},
   "source": [
    "# Retrieve number of objects in collection\n",
    "\n",
    "Checks the number of objects that are currently loaded in our collection."
   ]
  },
  {
   "cell_type": "code",
   "execution_count": null,
   "metadata": {},
   "outputs": [],
   "source": [
    "collection = client.collections.get(\"RealEstateListings\")\n",
    "response = collection.aggregate.over_all(total_count=True)\n",
    "\n",
    "print(response.total_count)"
   ]
  },
  {
   "cell_type": "markdown",
   "metadata": {},
   "source": [
    "# Fill collection with objects"
   ]
  },
  {
   "cell_type": "code",
   "execution_count": null,
   "metadata": {},
   "outputs": [],
   "source": [
    "import json\n",
    "import time\n",
    "import weaviate\n",
    "from langchain.text_splitter import RecursiveCharacterTextSplitter\n",
    "\n",
    "# Define the text splitter\n",
    "text_splitter = RecursiveCharacterTextSplitter(chunk_size=500, chunk_overlap=50)\n",
    "\n",
    "def add_listing_chunks(collection, data_rows, delay=0.5):\n",
    "\n",
    "    print(\"Starting batch insert with\", len(data_rows), \"data rows.\")\n",
    "    try:\n",
    "        with collection.batch.dynamic() as batch:\n",
    "            for idx, data_row in enumerate(data_rows):\n",
    "                print(f\"Adding object {idx+1}/{len(data_rows)}: Listing ID {data_row.get('listing_id')}\")\n",
    "                batch.add_object(properties=data_row)\n",
    "                time.sleep(delay)  # Slow down insertion\n",
    "                \n",
    "                # Stop batch import if too many errors occur\n",
    "                if batch.number_errors > 10:\n",
    "                    print(\"Batch import stopped due to excessive errors:\", batch.number_errors)\n",
    "                    break\n",
    "\n",
    "        # Check for failed objects\n",
    "        failed_objects = collection.batch.failed_objects\n",
    "        if failed_objects:\n",
    "            print(f\"Number of failed imports: {len(failed_objects)}\")\n",
    "            print(\"First failed object:\", failed_objects[0])\n",
    "        else:\n",
    "            print(\"Batch insert completed successfully with no errors.\")\n",
    "    except Exception as e:\n",
    "        print(\"Batch insert failed with error:\", e)\n",
    "\n",
    "\n",
    "# Load Listings.json with debug message\n",
    "try:\n",
    "    with open('Listings.json', 'r', encoding='utf-8') as file:\n",
    "        items = json.load(file)\n",
    "    print(\"Loaded Listings.json successfully, total items:\", len(items))\n",
    "except json.JSONDecodeError as e:\n",
    "    print(\"Failed to load JSON file due to decode error:\", e)\n",
    "    items = []\n",
    "except Exception as e:\n",
    "    print(\"Failed to load JSON file with error:\", e)\n",
    "    items = []\n",
    "\n",
    "# Get the Weaviate collection with debug message\n",
    "try:\n",
    "    collection = client.collections.get(\"RealEstateListings\")\n",
    "    print(\"Successfully retrieved collection 'RealEstateListings'.\")\n",
    "except Exception as e:\n",
    "    print(\"Error retrieving collection 'RealEstateListings':\", e)\n",
    "    collection = None\n",
    "\n",
    "if collection is None:\n",
    "    print(\"Exiting script as the collection could not be retrieved.\")\n",
    "else:\n",
    "    # Process and collect chunks\n",
    "    all_chunks = []\n",
    "    for item in items:\n",
    "        if not item.get(\"description_text\"):\n",
    "            print(f\"Skipping item {item.get('id', 'unknown')} due to missing description.\")\n",
    "            continue\n",
    "\n",
    "        description_chunks = text_splitter.split_text(item[\"description_text\"])\n",
    "        print(f\"Item {item.get('id', 'unknown')} split into {len(description_chunks)} chunks.\")\n",
    "        \n",
    "        for idx, chunk in enumerate(description_chunks):\n",
    "            data_row = {\n",
    "                \"listing_id\": str(item[\"id\"]),\n",
    "                \"title\": item.get(\"title\", \"\"),\n",
    "                \"address\": item.get(\"address\", \"\"),\n",
    "                \"type_of_property\": item.get(\"type_of_property\", \"\"),\n",
    "                \"size_of_property\": item.get(\"size_of_property\", \"\"),\n",
    "                \"price\": item.get(\"price\", None),\n",
    "                \"price_per_m\": item.get(\"price_per_m\", None),\n",
    "                \"price_per_month\": item.get(\"price_per_month\", None),\n",
    "                \"price_per_m_per_month\": item.get(\"price_per_m_per_month\", None),\n",
    "                \"description_text\": chunk,\n",
    "                \"chunk_index\": idx,\n",
    "                \"transaction_type\": item.get(\"transaction_type\", \"\"),\n",
    "                \"clean_phone_number\": item.get(\"clean_phone_number\", \"\"),\n",
    "                \"image\": item.get(\"image\", \"\"),\n",
    "                \"url\": item.get(\"url\", \"\"),\n",
    "            }\n",
    "            all_chunks.append(data_row)\n",
    "\n",
    "    print(\"Total data rows prepared for batch insert:\", len(all_chunks))\n",
    "    \n",
    "    # Call the batch insert function once with all collected chunks\n",
    "    if all_chunks:\n",
    "        add_listing_chunks(collection, all_chunks, delay=0)\n",
    "    else:\n",
    "        print(\"No valid data rows to insert.\")\n"
   ]
  },
  {
   "cell_type": "markdown",
   "metadata": {},
   "source": [
    "# Delete Collection\n",
    "\n",
    "Deletes already created collectionl."
   ]
  },
  {
   "cell_type": "code",
   "execution_count": null,
   "metadata": {},
   "outputs": [],
   "source": [
    "client.collections.delete(\"RealEstateListings\")"
   ]
  }
 ],
 "metadata": {
  "kernelspec": {
   "display_name": "Python 3",
   "language": "python",
   "name": "python3"
  },
  "language_info": {
   "codemirror_mode": {
    "name": "ipython",
    "version": 3
   },
   "file_extension": ".py",
   "mimetype": "text/x-python",
   "name": "python",
   "nbconvert_exporter": "python",
   "pygments_lexer": "ipython3",
   "version": "3.9.6"
  }
 },
 "nbformat": 4,
 "nbformat_minor": 2
}
